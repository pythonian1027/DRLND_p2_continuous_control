{
 "cells": [
  {
   "cell_type": "markdown",
   "metadata": {},
   "source": [
    "# Continuous Control\n",
    "\n",
    "---\n",
    "\n",
    "In this notebook, you will learn how to use the Unity ML-Agents environment for the second project of the [Deep Reinforcement Learning Nanodegree](https://www.udacity.com/course/deep-reinforcement-learning-nanodegree--nd893) program.\n",
    "\n",
    "### 1. Start the Environment\n",
    "\n",
    "We begin by importing the necessary packages.  If the code cell below returns an error, please revisit the project instructions to double-check that you have installed [Unity ML-Agents](https://github.com/Unity-Technologies/ml-agents/blob/master/docs/Installation.md) and [NumPy](http://www.numpy.org/)."
   ]
  },
  {
   "cell_type": "code",
   "execution_count": 1,
   "metadata": {},
   "outputs": [],
   "source": [
    "from unityagents import UnityEnvironment\n",
    "import numpy as np"
   ]
  },
  {
   "cell_type": "markdown",
   "metadata": {},
   "source": [
    "Next, we will start the environment!  **_Before running the code cell below_**, change the `file_name` parameter to match the location of the Unity environment that you downloaded.\n",
    "\n",
    "- **Mac**: `\"path/to/Reacher.app\"`\n",
    "- **Windows** (x86): `\"path/to/Reacher_Windows_x86/Reacher.exe\"`\n",
    "- **Windows** (x86_64): `\"path/to/Reacher_Windows_x86_64/Reacher.exe\"`\n",
    "- **Linux** (x86): `\"path/to/Reacher_Linux/Reacher.x86\"`\n",
    "- **Linux** (x86_64): `\"path/to/Reacher_Linux/Reacher.x86_64\"`\n",
    "- **Linux** (x86, headless): `\"path/to/Reacher_Linux_NoVis/Reacher.x86\"`\n",
    "- **Linux** (x86_64, headless): `\"path/to/Reacher_Linux_NoVis/Reacher.x86_64\"`\n",
    "\n",
    "For instance, if you are using a Mac, then you downloaded `Reacher.app`.  If this file is in the same folder as the notebook, then the line below should appear as follows:\n",
    "```\n",
    "env = UnityEnvironment(file_name=\"Reacher.app\")\n",
    "```"
   ]
  },
  {
   "cell_type": "code",
   "execution_count": 2,
   "metadata": {
    "scrolled": true
   },
   "outputs": [
    {
     "name": "stderr",
     "output_type": "stream",
     "text": [
      "INFO:unityagents:\n",
      "'Academy' started successfully!\n",
      "Unity Academy name: Academy\n",
      "        Number of Brains: 1\n",
      "        Number of External Brains : 1\n",
      "        Lesson number : 0\n",
      "        Reset Parameters :\n",
      "\t\tgoal_speed -> 1.0\n",
      "\t\tgoal_size -> 5.0\n",
      "Unity brain name: ReacherBrain\n",
      "        Number of Visual Observations (per agent): 0\n",
      "        Vector Observation space type: continuous\n",
      "        Vector Observation space size (per agent): 33\n",
      "        Number of stacked Vector Observation: 1\n",
      "        Vector Action space type: continuous\n",
      "        Vector Action space size (per agent): 4\n",
      "        Vector Action descriptions: , , , \n"
     ]
    }
   ],
   "source": [
    "env = UnityEnvironment(file_name='C:\\\\Users\\\\ricor\\\\Google Drive\\\\developer\\\\python\\\\NanoDegrees\\\\deep-reinforcement-learning\\\\p2_continuous-control\\\\Reacher_Windows_x86_64\\\\Reacher_Windows_x86_64\\\\Reacher.exe')"
   ]
  },
  {
   "cell_type": "markdown",
   "metadata": {},
   "source": [
    "Environments contain **_brains_** which are responsible for deciding the actions of their associated agents. Here we check for the first brain available, and set it as the default brain we will be controlling from Python."
   ]
  },
  {
   "cell_type": "code",
   "execution_count": 3,
   "metadata": {},
   "outputs": [],
   "source": [
    "# get the default brain\n",
    "brain_name = env.brain_names[0]\n",
    "brain = env.brains[brain_name]"
   ]
  },
  {
   "cell_type": "markdown",
   "metadata": {},
   "source": [
    "### 2. Examine the State and Action Spaces\n",
    "\n",
    "In this environment, a double-jointed arm can move to target locations. A reward of `+0.1` is provided for each step that the agent's hand is in the goal location. Thus, the goal of your agent is to maintain its position at the target location for as many time steps as possible.\n",
    "\n",
    "The observation space consists of `33` variables corresponding to position, rotation, velocity, and angular velocities of the arm.  Each action is a vector with four numbers, corresponding to torque applicable to two joints.  Every entry in the action vector must be a number between `-1` and `1`.\n",
    "\n",
    "Run the code cell below to print some information about the environment."
   ]
  },
  {
   "cell_type": "code",
   "execution_count": 4,
   "metadata": {},
   "outputs": [
    {
     "name": "stdout",
     "output_type": "stream",
     "text": [
      "Number of agents: 20\n",
      "Size of each action: 4\n",
      "There are 20 agents. Each observes a state with length: 33\n",
      "The state for the first agent looks like: [ 0.00000000e+00 -4.00000000e+00  0.00000000e+00  1.00000000e+00\n",
      " -0.00000000e+00 -0.00000000e+00 -4.37113883e-08  0.00000000e+00\n",
      "  0.00000000e+00  0.00000000e+00  0.00000000e+00  0.00000000e+00\n",
      "  0.00000000e+00  0.00000000e+00 -1.00000000e+01  0.00000000e+00\n",
      "  1.00000000e+00 -0.00000000e+00 -0.00000000e+00 -4.37113883e-08\n",
      "  0.00000000e+00  0.00000000e+00  0.00000000e+00  0.00000000e+00\n",
      "  0.00000000e+00  0.00000000e+00  5.75471878e+00 -1.00000000e+00\n",
      "  5.55726624e+00  0.00000000e+00  1.00000000e+00  0.00000000e+00\n",
      " -1.68164849e-01]\n"
     ]
    }
   ],
   "source": [
    "# reset the environment\n",
    "env_info = env.reset(train_mode=True)[brain_name]\n",
    "\n",
    "# number of agents\n",
    "num_agents = len(env_info.agents)\n",
    "print('Number of agents:', num_agents)\n",
    "\n",
    "# size of each action\n",
    "action_size = brain.vector_action_space_size\n",
    "print('Size of each action:', action_size)\n",
    "\n",
    "# examine the state space \n",
    "states = env_info.vector_observations\n",
    "state_size = states.shape[1]\n",
    "print('There are {} agents. Each observes a state with length: {}'.format(states.shape[0], state_size))\n",
    "print('The state for the first agent looks like:', states[0])"
   ]
  },
  {
   "cell_type": "markdown",
   "metadata": {},
   "source": [
    "### 3. Take Random Actions in the Environment\n",
    "\n",
    "In the next code cell, you will learn how to use the Python API to control the agent and receive feedback from the environment.\n",
    "\n",
    "Once this cell is executed, you will watch the agent's performance, if it selects an action at random with each time step.  A window should pop up that allows you to observe the agent, as it moves through the environment.  \n",
    "\n",
    "Of course, as part of the project, you'll have to change the code so that the agent is able to use its experience to gradually choose better actions when interacting with the environment!"
   ]
  },
  {
   "cell_type": "code",
   "execution_count": 5,
   "metadata": {},
   "outputs": [
    {
     "name": "stdout",
     "output_type": "stream",
     "text": [
      "Total score (averaged over agents) this episode: 0.0\n"
     ]
    }
   ],
   "source": [
    "env_info = env.reset(train_mode=False)[brain_name]     # reset the environment    \n",
    "states = env_info.vector_observations                  # get the current state (for each agent)\n",
    "scores = np.zeros(num_agents)                          # initialize the score (for each agent)\n",
    "# while True:\n",
    "#     actions = np.random.randn(num_agents, action_size) # select an action (for each agent)\n",
    "#     actions = np.clip(actions, -1, 1)                  # all actions between -1 and 1\n",
    "#     env_info = env.step(actions)[brain_name]           # send all actions to tne environment\n",
    "#     next_states = env_info.vector_observations         # get next state (for each agent)\n",
    "#     rewards = env_info.rewards                         # get reward (for each agent)\n",
    "#     dones = env_info.local_done                        # see if episode finished\n",
    "#     scores += env_info.rewards                         # update the score (for each agent)\n",
    "#     states = next_states                               # roll over states to next time step\n",
    "#     if np.any(dones):                                  # exit loop if episode finished\n",
    "#         break\n",
    "print('Total score (averaged over agents) this episode: {}'.format(np.mean(scores)))"
   ]
  },
  {
   "cell_type": "markdown",
   "metadata": {},
   "source": [
    "When finished, you can close the environment."
   ]
  },
  {
   "cell_type": "code",
   "execution_count": 6,
   "metadata": {},
   "outputs": [],
   "source": [
    "# env.close()"
   ]
  },
  {
   "cell_type": "markdown",
   "metadata": {},
   "source": [
    "### 4. It's Your Turn!\n",
    "\n",
    "Now it's your turn to train your own agent to solve the environment!  When training the environment, set `train_mode=True`, so that the line for resetting the environment looks like the following:\n",
    "```python\n",
    "env_info = env.reset(train_mode=True)[brain_name]\n",
    "```"
   ]
  },
  {
   "cell_type": "code",
   "execution_count": 7,
   "metadata": {},
   "outputs": [],
   "source": [
    "import time\n",
    "import numpy as np\n",
    "import random\n",
    "\n",
    "import torch\n",
    "%matplotlib inline\n",
    "\n",
    "NUM_EPS_PERFORMANCE = 100\n",
    "TARGET_SCORE = 30"
   ]
  },
  {
   "cell_type": "code",
   "execution_count": 8,
   "metadata": {},
   "outputs": [
    {
     "name": "stdout",
     "output_type": "stream",
     "text": [
      "state_size: 33\n",
      "action_size: 4\n"
     ]
    }
   ],
   "source": [
    "from ddpg_agent import Agent\n",
    "\n",
    "print (\"state_size: {}\".format(state_size))\n",
    "print (\"action_size: {}\".format(action_size))\n",
    "# agent = Agent(state_size = state_size, action_size = action_size, random_seed = 31)"
   ]
  },
  {
   "cell_type": "code",
   "execution_count": 9,
   "metadata": {},
   "outputs": [
    {
     "name": "stdout",
     "output_type": "stream",
     "text": [
      "<torch.cuda.device object at 0x000002079FB15550>\n",
      "1\n",
      "cuda:0\n",
      "0\n"
     ]
    }
   ],
   "source": [
    "import torch\n",
    "\n",
    "print (torch.cuda.device(0))\n",
    "print (torch.cuda.device_count())\n",
    "device = torch.device(\"cuda:0\" if torch.cuda.is_available() else \"cpu\")\n",
    "print (device)\n",
    "print (torch.cuda.current_device())"
   ]
  },
  {
   "cell_type": "code",
   "execution_count": 10,
   "metadata": {},
   "outputs": [
    {
     "name": "stdout",
     "output_type": "stream",
     "text": [
      "20\n"
     ]
    }
   ],
   "source": [
    "agent = Agent(state_size = state_size, action_size = action_size, random_seed = 41)\n",
    "print (num_agents)"
   ]
  },
  {
   "cell_type": "code",
   "execution_count": 11,
   "metadata": {},
   "outputs": [],
   "source": [
    "from collections import deque\n",
    "%matplotlib inline\n",
    "def train_ddpg(n_episodes = 500, max_tsteps = 1000):\n",
    "    \"\"\"\n",
    "    DDPG algorithm\n",
    "        n_episodes: max number of episodes during training (int)\n",
    "        max_t: max number of timesteps (int)\n",
    "    \"\"\"\n",
    "    \n",
    "    scores = list()\n",
    "    mov_avg = deque(maxlen = 100)\n",
    "    PRINT_EVERY = 1\n",
    "    \n",
    "    for ith_episode in range(1, n_episodes + 1): \n",
    "        agent.reset()\n",
    "        score = 0\n",
    "        scores_per_episode = np.zeros(num_agents)\n",
    "        env_info = env.reset(train_mode = True)[brain_name]\n",
    "        states = env_info.vector_observations\n",
    "        \n",
    "        for t_step in range(max_tsteps):\n",
    "            actions = agent.act(states)\n",
    "            env_info = env.step(actions)[brain_name]\n",
    "            rewards = env_info.rewards\n",
    "            next_states = env_info.vector_observations\n",
    "            dones = env_info.local_done\n",
    "            for state, action, reward, next_state, done in zip(states, actions, rewards, next_states, dones):\n",
    "                agent.step(state, action, reward, next_state, done, t_step)\n",
    "#             agent.step(states, actions, rewards, next_states, dones, t_step)\n",
    "            states = next_states\n",
    "            scores_per_episode += rewards            \n",
    "            \n",
    "            if np.any(dones):\n",
    "                break\n",
    "            \n",
    "        # to get an estimation of the learning progress, we'll be using a moving average\n",
    "#         scores.append( list(scores_per_episode) )\n",
    "#         mov_avg.append(np.mean(scores[-NUM_EPS_PERFORMANCE:], axis = 0))\n",
    "        scores.append(np.mean(scores_per_episode))\n",
    "        mov_avg.append(scores[-1])\n",
    "                \n",
    "        if not ith_episode % PRINT_EVERY:\n",
    "            print ('Episode: {:3d},\\tmean score: {:.2f}' \\\n",
    "                    .format(ith_episode, np.mean(mov_avg)))\n",
    "    \n",
    "        if ith_episode >= NUM_EPS_PERFORMANCE and mov_avg[-1].mean() > TARGET_SCORE:         \n",
    "            print (\"ENVIRONMENT SOLVED IN EPISODE : {}\".format(ith_episode))\n",
    "            torch.save(agent.actor_local.state_dict(), 'checkpoint_actor.pth')\n",
    "            torch.save(agent.critic_local.state_dict(), 'checkpoint_critic.pth')\n",
    "            print (\"done!\")\n",
    "            break\n",
    "       \n",
    "        # PRINT RESULTS EVERY 10 EPISODES\n",
    "#         if not ith_episode % PRINT_EVERY:\n",
    "#             print(\"EPISODE: {},\\tAVG SCORE:: {:.2f}\".format(ith_episode, mov_avg[-1].mean()))\n",
    "    \n",
    "        \n",
    "    return scores, mov_avg                                                   \n",
    "            "
   ]
  },
  {
   "cell_type": "code",
   "execution_count": 12,
   "metadata": {},
   "outputs": [
    {
     "name": "stdout",
     "output_type": "stream",
     "text": [
      "Episode:   1,\tmean score: 0.56\n",
      "Episode:   2,\tmean score: 0.67\n",
      "Episode:   3,\tmean score: 0.89\n",
      "Episode:   4,\tmean score: 0.93\n",
      "Episode:   5,\tmean score: 0.97\n",
      "Episode:   6,\tmean score: 1.05\n",
      "Episode:   7,\tmean score: 1.16\n",
      "Episode:   8,\tmean score: 1.29\n",
      "Episode:   9,\tmean score: 1.43\n",
      "Episode:  10,\tmean score: 1.57\n",
      "Episode:  11,\tmean score: 1.77\n",
      "Episode:  12,\tmean score: 1.98\n",
      "Episode:  13,\tmean score: 2.25\n",
      "Episode:  14,\tmean score: 2.63\n",
      "Episode:  15,\tmean score: 3.00\n",
      "Episode:  16,\tmean score: 3.42\n",
      "Episode:  17,\tmean score: 3.87\n",
      "Episode:  18,\tmean score: 4.29\n",
      "Episode:  19,\tmean score: 4.67\n",
      "Episode:  20,\tmean score: 5.06\n",
      "Episode:  21,\tmean score: 5.39\n",
      "Episode:  22,\tmean score: 5.67\n",
      "Episode:  23,\tmean score: 6.02\n",
      "Episode:  24,\tmean score: 6.30\n",
      "Episode:  25,\tmean score: 6.58\n",
      "Episode:  26,\tmean score: 6.89\n",
      "Episode:  27,\tmean score: 7.21\n",
      "Episode:  28,\tmean score: 7.50\n",
      "Episode:  29,\tmean score: 7.84\n",
      "Episode:  30,\tmean score: 8.19\n",
      "Episode:  31,\tmean score: 8.52\n",
      "Episode:  32,\tmean score: 8.92\n",
      "Episode:  33,\tmean score: 9.33\n",
      "Episode:  34,\tmean score: 9.67\n",
      "Episode:  35,\tmean score: 10.05\n",
      "Episode:  36,\tmean score: 10.44\n",
      "Episode:  37,\tmean score: 10.90\n",
      "Episode:  38,\tmean score: 11.24\n",
      "Episode:  39,\tmean score: 11.58\n",
      "Episode:  40,\tmean score: 11.82\n",
      "Episode:  41,\tmean score: 12.21\n",
      "Episode:  42,\tmean score: 12.51\n",
      "Episode:  43,\tmean score: 12.88\n",
      "Episode:  44,\tmean score: 13.23\n",
      "Episode:  45,\tmean score: 13.61\n",
      "Episode:  46,\tmean score: 13.98\n",
      "Episode:  47,\tmean score: 14.24\n",
      "Episode:  48,\tmean score: 14.52\n",
      "Episode:  49,\tmean score: 14.85\n",
      "Episode:  50,\tmean score: 15.12\n",
      "Episode:  51,\tmean score: 15.43\n",
      "Episode:  52,\tmean score: 15.71\n",
      "Episode:  53,\tmean score: 15.98\n",
      "Episode:  54,\tmean score: 16.27\n",
      "Episode:  55,\tmean score: 16.57\n",
      "Episode:  56,\tmean score: 16.85\n",
      "Episode:  57,\tmean score: 17.17\n",
      "Episode:  58,\tmean score: 17.48\n",
      "Episode:  59,\tmean score: 17.79\n",
      "Episode:  60,\tmean score: 18.10\n",
      "Episode:  61,\tmean score: 18.37\n",
      "Episode:  62,\tmean score: 18.66\n",
      "Episode:  63,\tmean score: 18.95\n",
      "Episode:  64,\tmean score: 19.20\n",
      "Episode:  65,\tmean score: 19.47\n",
      "Episode:  66,\tmean score: 19.74\n",
      "Episode:  67,\tmean score: 20.02\n",
      "Episode:  68,\tmean score: 20.29\n",
      "Episode:  69,\tmean score: 20.55\n",
      "Episode:  70,\tmean score: 20.80\n",
      "Episode:  71,\tmean score: 21.05\n",
      "Episode:  72,\tmean score: 21.29\n",
      "Episode:  73,\tmean score: 21.51\n",
      "Episode:  74,\tmean score: 21.73\n",
      "Episode:  75,\tmean score: 21.95\n",
      "Episode:  76,\tmean score: 22.14\n",
      "Episode:  77,\tmean score: 22.33\n",
      "Episode:  78,\tmean score: 22.51\n",
      "Episode:  79,\tmean score: 22.68\n",
      "Episode:  80,\tmean score: 22.87\n",
      "Episode:  81,\tmean score: 23.05\n",
      "Episode:  82,\tmean score: 23.22\n",
      "Episode:  83,\tmean score: 23.39\n",
      "Episode:  84,\tmean score: 23.55\n",
      "Episode:  85,\tmean score: 23.68\n",
      "Episode:  86,\tmean score: 23.81\n",
      "Episode:  87,\tmean score: 23.93\n",
      "Episode:  88,\tmean score: 24.07\n",
      "Episode:  89,\tmean score: 24.19\n",
      "Episode:  90,\tmean score: 24.30\n",
      "Episode:  91,\tmean score: 24.42\n",
      "Episode:  92,\tmean score: 24.56\n",
      "Episode:  93,\tmean score: 24.69\n",
      "Episode:  94,\tmean score: 24.79\n",
      "Episode:  95,\tmean score: 24.88\n",
      "Episode:  96,\tmean score: 24.98\n",
      "Episode:  97,\tmean score: 25.09\n",
      "Episode:  98,\tmean score: 25.20\n",
      "Episode:  99,\tmean score: 25.31\n",
      "Episode: 100,\tmean score: 25.40\n",
      "ENVIRONMENT SOLVED IN EPISODE : 100\n",
      "done!\n"
     ]
    }
   ],
   "source": [
    "# training \n",
    "scores, mov_avg = train_ddpg()"
   ]
  },
  {
   "cell_type": "code",
   "execution_count": 23,
   "metadata": {},
   "outputs": [
    {
     "data": {
      "text/plain": [
       "Text(0.5, 0, '# Episode')"
      ]
     },
     "execution_count": 23,
     "metadata": {},
     "output_type": "execute_result"
    },
    {
     "data": {
      "image/png": "[encoded data removed]",
      "text/plain": [
       "<Figure size 432x288 with 1 Axes>"
      ]
     },
     "metadata": {
      "needs_background": "light"
     },
     "output_type": "display_data"
    }
   ],
   "source": [
    "import matplotlib.pyplot as plt\n",
    "fig, ax = plt.subplots(1)\n",
    "ax.plot(np.arange(len(mov_avg)), mov_avg)\n",
    "ax.grid(True)\n",
    "ax.set_title(\"DDPG 20 agent performance\")\n",
    "ax.set_ylabel(\"Average Score (win=100)\")\n",
    "ax.set_xlabel(\"# Episode\")"
   ]
  },
  {
   "cell_type": "code",
   "execution_count": null,
   "metadata": {},
   "outputs": [],
   "source": []
  }
 ],
 "metadata": {
  "kernelspec": {
   "display_name": "drlnd",
   "language": "python",
   "name": "drlnd"
  },
  "language_info": {
   "codemirror_mode": {
    "name": "ipython",
    "version": 3
   },
   "file_extension": ".py",
   "mimetype": "text/x-python",
   "name": "python",
   "nbconvert_exporter": "python",
   "pygments_lexer": "ipython3",
   "version": "3.6.13"
  }
 },
 "nbformat": 4,
 "nbformat_minor": 2
}
